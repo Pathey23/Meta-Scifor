{
 "cells": [
  {
   "cell_type": "markdown",
   "id": "9e89133b",
   "metadata": {},
   "source": [
    "# Task 1. Preprocessing Steps:"
   ]
  },
  {
   "cell_type": "code",
   "execution_count": 1,
   "id": "d8469190",
   "metadata": {},
   "outputs": [],
   "source": [
    "import tensorflow as tf\n",
    "from tensorflow.keras.datasets import mnist\n",
    "from tensorflow.keras.utils import to_categorical\n",
    "from tensorflow.keras.models import Sequential\n",
    "from tensorflow.keras.layers import Conv2D, MaxPooling2D, Flatten, Dense"
   ]
  },
  {
   "cell_type": "code",
   "execution_count": 2,
   "id": "0b8a3afe",
   "metadata": {},
   "outputs": [],
   "source": [
    "# Load the MNIST dataset\n",
    "(x_train, y_train), (x_test, y_test) = mnist.load_data()"
   ]
  },
  {
   "cell_type": "code",
   "execution_count": 3,
   "id": "b192883f",
   "metadata": {},
   "outputs": [],
   "source": [
    "# Normalize the pixel values to the range [0, 1]\n",
    "x_train = x_train.astype('float32') / 255.0\n",
    "x_test = x_test.astype('float32') / 255.0"
   ]
  },
  {
   "cell_type": "code",
   "execution_count": 4,
   "id": "faeef2b3",
   "metadata": {},
   "outputs": [],
   "source": [
    "# Reshape the images to include the channel dimension (28, 28, 1)\n",
    "x_train = x_train.reshape(x_train.shape[0], 28, 28, 1)\n",
    "x_test = x_test.reshape(x_test.shape[0], 28, 28, 1)"
   ]
  },
  {
   "cell_type": "code",
   "execution_count": 5,
   "id": "16b1d80f",
   "metadata": {},
   "outputs": [],
   "source": [
    "# Convert the labels to one-hot encoding\n",
    "y_train = to_categorical(y_train, 10)\n",
    "y_test = to_categorical(y_test, 10)"
   ]
  },
  {
   "cell_type": "markdown",
   "id": "1d21ef64",
   "metadata": {},
   "source": [
    "# Task 2. Model Architecture:"
   ]
  },
  {
   "cell_type": "code",
   "execution_count": 6,
   "id": "7c594550",
   "metadata": {},
   "outputs": [],
   "source": [
    "# Create a Sequential model\n",
    "model = Sequential()"
   ]
  },
  {
   "cell_type": "code",
   "execution_count": 7,
   "id": "1713b24f",
   "metadata": {},
   "outputs": [],
   "source": [
    "# 1st Convolutional Layer: 32 filters, 3x3 kernel, ReLU activation\n",
    "model.add(Conv2D(32, kernel_size=(3, 3), activation='relu', input_shape=(28, 28, 1)))"
   ]
  },
  {
   "cell_type": "code",
   "execution_count": 8,
   "id": "0ea428ed",
   "metadata": {},
   "outputs": [],
   "source": [
    "# 1st Max Pooling Layer: 2x2 pool size\n",
    "model.add(MaxPooling2D(pool_size=(2, 2)))"
   ]
  },
  {
   "cell_type": "code",
   "execution_count": 9,
   "id": "cafeed49",
   "metadata": {},
   "outputs": [],
   "source": [
    "# 2nd Convolutional Layer: 64 filters, 3x3 kernel, ReLU activation\n",
    "model.add(Conv2D(64, kernel_size=(3, 3), activation='relu'))"
   ]
  },
  {
   "cell_type": "code",
   "execution_count": 10,
   "id": "00a7fe46",
   "metadata": {},
   "outputs": [],
   "source": [
    "# 2nd Max Pooling Layer: 2x2 pool size\n",
    "model.add(MaxPooling2D(pool_size=(2, 2)))"
   ]
  },
  {
   "cell_type": "code",
   "execution_count": 11,
   "id": "582aeef1",
   "metadata": {},
   "outputs": [],
   "source": [
    "# 3rd Convolutional Layer: 128 filters, 3x3 kernel, ReLU activation\n",
    "model.add(Conv2D(128, kernel_size=(3, 3), activation='relu'))"
   ]
  },
  {
   "cell_type": "code",
   "execution_count": 12,
   "id": "abcdc73b",
   "metadata": {},
   "outputs": [],
   "source": [
    "# 4th Convolutional Layer: 256 filters, 3x3 kernel, ReLU activation\n",
    "model.add(Conv2D(256, kernel_size=(3, 3), activation='relu'))"
   ]
  },
  {
   "cell_type": "code",
   "execution_count": 13,
   "id": "8675d378",
   "metadata": {},
   "outputs": [],
   "source": [
    "# Flatten the output from the last layer to feed into fully connected layers\n",
    "model.add(Flatten())"
   ]
  },
  {
   "cell_type": "code",
   "execution_count": 14,
   "id": "e1333c1a",
   "metadata": {},
   "outputs": [],
   "source": [
    "# 1st Fully Connected Layer: 128 units, ReLU activation\n",
    "model.add(Dense(128, activation='relu'))"
   ]
  },
  {
   "cell_type": "code",
   "execution_count": 15,
   "id": "e69e5c60",
   "metadata": {},
   "outputs": [],
   "source": [
    "# 2nd Fully Connected Layer: 50 units, ReLU activation\n",
    "model.add(Dense(50, activation='relu'))"
   ]
  },
  {
   "cell_type": "code",
   "execution_count": 17,
   "id": "57c62eb8",
   "metadata": {},
   "outputs": [],
   "source": [
    "# 3rd Fully Connected Layer: 50 units, ReLU activation\n",
    "model.add(Dense(50, activation='relu'))"
   ]
  },
  {
   "cell_type": "code",
   "execution_count": 18,
   "id": "7189b764",
   "metadata": {},
   "outputs": [],
   "source": [
    "# Output Layer: 10 units (for 10 classes), Softmax activation for classification\n",
    "model.add(Dense(10, activation='softmax'))"
   ]
  },
  {
   "cell_type": "markdown",
   "id": "4d5d3afa",
   "metadata": {},
   "source": [
    "# Task 3. Training and Evaluation:"
   ]
  },
  {
   "cell_type": "code",
   "execution_count": 19,
   "id": "adf3a1d6",
   "metadata": {},
   "outputs": [
    {
     "name": "stdout",
     "output_type": "stream",
     "text": [
      "Model: \"sequential\"\n",
      "_________________________________________________________________\n",
      " Layer (type)                Output Shape              Param #   \n",
      "=================================================================\n",
      " conv2d (Conv2D)             (None, 26, 26, 32)        320       \n",
      "                                                                 \n",
      " max_pooling2d (MaxPooling2D  (None, 13, 13, 32)       0         \n",
      " )                                                               \n",
      "                                                                 \n",
      " conv2d_1 (Conv2D)           (None, 11, 11, 64)        18496     \n",
      "                                                                 \n",
      " max_pooling2d_1 (MaxPooling  (None, 5, 5, 64)         0         \n",
      " 2D)                                                             \n",
      "                                                                 \n",
      " conv2d_2 (Conv2D)           (None, 3, 3, 128)         73856     \n",
      "                                                                 \n",
      " conv2d_3 (Conv2D)           (None, 1, 1, 256)         295168    \n",
      "                                                                 \n",
      " flatten (Flatten)           (None, 256)               0         \n",
      "                                                                 \n",
      " dense (Dense)               (None, 128)               32896     \n",
      "                                                                 \n",
      " dense_1 (Dense)             (None, 50)                6450      \n",
      "                                                                 \n",
      " dense_2 (Dense)             (None, 50)                2550      \n",
      "                                                                 \n",
      " dense_3 (Dense)             (None, 50)                2550      \n",
      "                                                                 \n",
      " dense_4 (Dense)             (None, 10)                510       \n",
      "                                                                 \n",
      "=================================================================\n",
      "Total params: 432,796\n",
      "Trainable params: 432,796\n",
      "Non-trainable params: 0\n",
      "_________________________________________________________________\n"
     ]
    }
   ],
   "source": [
    "model.summary()"
   ]
  },
  {
   "cell_type": "code",
   "execution_count": 20,
   "id": "0d055592",
   "metadata": {},
   "outputs": [
    {
     "name": "stdout",
     "output_type": "stream",
     "text": [
      "Epoch 1/10\n",
      "469/469 [==============================] - 52s 105ms/step - loss: 0.2697 - accuracy: 0.9135 - val_loss: 0.0525 - val_accuracy: 0.9836\n",
      "Epoch 2/10\n",
      "469/469 [==============================] - 49s 104ms/step - loss: 0.0591 - accuracy: 0.9818 - val_loss: 0.0464 - val_accuracy: 0.9847\n",
      "Epoch 3/10\n",
      "469/469 [==============================] - 49s 104ms/step - loss: 0.0408 - accuracy: 0.9872 - val_loss: 0.0325 - val_accuracy: 0.9891\n",
      "Epoch 4/10\n",
      "469/469 [==============================] - 75s 161ms/step - loss: 0.0328 - accuracy: 0.9902 - val_loss: 0.0355 - val_accuracy: 0.9901\n",
      "Epoch 5/10\n",
      "469/469 [==============================] - 89s 191ms/step - loss: 0.0281 - accuracy: 0.9913 - val_loss: 0.0412 - val_accuracy: 0.9871\n",
      "Epoch 6/10\n",
      "469/469 [==============================] - 90s 192ms/step - loss: 0.0228 - accuracy: 0.9930 - val_loss: 0.0275 - val_accuracy: 0.9915\n",
      "Epoch 7/10\n",
      "469/469 [==============================] - 89s 190ms/step - loss: 0.0199 - accuracy: 0.9943 - val_loss: 0.0320 - val_accuracy: 0.9899\n",
      "Epoch 8/10\n",
      "469/469 [==============================] - 93s 199ms/step - loss: 0.0164 - accuracy: 0.9946 - val_loss: 0.0327 - val_accuracy: 0.9903\n",
      "Epoch 9/10\n",
      "469/469 [==============================] - 99s 210ms/step - loss: 0.0166 - accuracy: 0.9949 - val_loss: 0.0313 - val_accuracy: 0.9910\n",
      "Epoch 10/10\n",
      "469/469 [==============================] - 91s 194ms/step - loss: 0.0135 - accuracy: 0.9955 - val_loss: 0.0357 - val_accuracy: 0.9906\n"
     ]
    },
    {
     "data": {
      "text/plain": [
       "<keras.callbacks.History at 0x2239d0a0880>"
      ]
     },
     "execution_count": 20,
     "metadata": {},
     "output_type": "execute_result"
    }
   ],
   "source": [
    "# Compile the model\n",
    "model.compile(optimizer='adam', \n",
    "              loss='categorical_crossentropy', \n",
    "              metrics=['accuracy'])\n",
    "\n",
    "# Train the model\n",
    "model.fit(x_train, y_train, epochs=10, batch_size=128, validation_data=(x_test, y_test))"
   ]
  },
  {
   "cell_type": "code",
   "execution_count": 21,
   "id": "8279b2ce",
   "metadata": {},
   "outputs": [
    {
     "name": "stdout",
     "output_type": "stream",
     "text": [
      "313/313 [==============================] - 7s 22ms/step - loss: 0.0357 - accuracy: 0.9906\n",
      "Test accuracy: 0.9906\n"
     ]
    }
   ],
   "source": [
    "# Evaluate the model on the test set\n",
    "test_loss, test_accuracy = model.evaluate(x_test, y_test)\n",
    "print(f'Test accuracy: {test_accuracy:.4f}')"
   ]
  },
  {
   "cell_type": "code",
   "execution_count": 23,
   "id": "46fbed00",
   "metadata": {},
   "outputs": [
    {
     "name": "stdout",
     "output_type": "stream",
     "text": [
      "Test accuracy: 99.06%\n"
     ]
    }
   ],
   "source": [
    "print(f\"Test accuracy: {test_accuracy * 100:.2f}%\")"
   ]
  },
  {
   "cell_type": "markdown",
   "id": "0bc2daa3",
   "metadata": {},
   "source": [
    "# save the model"
   ]
  },
  {
   "cell_type": "code",
   "execution_count": 25,
   "id": "4fca94e5",
   "metadata": {},
   "outputs": [],
   "source": [
    "model.save('mnist_cnn_model.h5')"
   ]
  },
  {
   "cell_type": "code",
   "execution_count": null,
   "id": "9d84f16d",
   "metadata": {},
   "outputs": [],
   "source": []
  }
 ],
 "metadata": {
  "kernelspec": {
   "display_name": "Python 3 (ipykernel)",
   "language": "python",
   "name": "python3"
  },
  "language_info": {
   "codemirror_mode": {
    "name": "ipython",
    "version": 3
   },
   "file_extension": ".py",
   "mimetype": "text/x-python",
   "name": "python",
   "nbconvert_exporter": "python",
   "pygments_lexer": "ipython3",
   "version": "3.9.7"
  }
 },
 "nbformat": 4,
 "nbformat_minor": 5
}
