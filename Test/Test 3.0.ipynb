{
 "cells": [
  {
   "cell_type": "markdown",
   "id": "85c2b54d",
   "metadata": {},
   "source": [
    "# Part 1: Pandas"
   ]
  },
  {
   "cell_type": "markdown",
   "id": "b27bd1f3",
   "metadata": {},
   "source": [
    "Q.1 DataFrame Creation"
   ]
  },
  {
   "cell_type": "code",
   "execution_count": 1,
   "id": "fcaa7a0e",
   "metadata": {},
   "outputs": [],
   "source": [
    "import pandas as pd\n",
    "import numpy as np"
   ]
  },
  {
   "cell_type": "code",
   "execution_count": 3,
   "id": "cab67572",
   "metadata": {},
   "outputs": [
    {
     "name": "stdout",
     "output_type": "stream",
     "text": [
      "      Name  Age  Score\n",
      "0    Alice   24   85.5\n",
      "1      Bob   27   90.3\n",
      "2  Charlie   22   88.0\n",
      "3    David   32   92.1\n",
      "4      Eve   29   78.8\n"
     ]
    }
   ],
   "source": [
    "data = {\n",
    "'Name': ['Alice', 'Bob', 'Charlie', 'David', 'Eve'],\n",
    "'Age': [24, 27, 22, 32, 29],\n",
    "'Score': [85.5, 90.3, 88.0, 92.1, 78.8]\n",
    "}\n",
    "df=pd.DataFrame(data)\n",
    "print(df)"
   ]
  },
  {
   "cell_type": "markdown",
   "id": "0ff2d193",
   "metadata": {},
   "source": [
    "Q.2 Inspecting DataFrame"
   ]
  },
  {
   "cell_type": "code",
   "execution_count": 4,
   "id": "df849762",
   "metadata": {},
   "outputs": [
    {
     "data": {
      "text/html": [
       "<div>\n",
       "<style scoped>\n",
       "    .dataframe tbody tr th:only-of-type {\n",
       "        vertical-align: middle;\n",
       "    }\n",
       "\n",
       "    .dataframe tbody tr th {\n",
       "        vertical-align: top;\n",
       "    }\n",
       "\n",
       "    .dataframe thead th {\n",
       "        text-align: right;\n",
       "    }\n",
       "</style>\n",
       "<table border=\"1\" class=\"dataframe\">\n",
       "  <thead>\n",
       "    <tr style=\"text-align: right;\">\n",
       "      <th></th>\n",
       "      <th>Name</th>\n",
       "      <th>Age</th>\n",
       "      <th>Score</th>\n",
       "    </tr>\n",
       "  </thead>\n",
       "  <tbody>\n",
       "    <tr>\n",
       "      <th>0</th>\n",
       "      <td>Alice</td>\n",
       "      <td>24</td>\n",
       "      <td>85.5</td>\n",
       "    </tr>\n",
       "    <tr>\n",
       "      <th>1</th>\n",
       "      <td>Bob</td>\n",
       "      <td>27</td>\n",
       "      <td>90.3</td>\n",
       "    </tr>\n",
       "    <tr>\n",
       "      <th>2</th>\n",
       "      <td>Charlie</td>\n",
       "      <td>22</td>\n",
       "      <td>88.0</td>\n",
       "    </tr>\n",
       "  </tbody>\n",
       "</table>\n",
       "</div>"
      ],
      "text/plain": [
       "      Name  Age  Score\n",
       "0    Alice   24   85.5\n",
       "1      Bob   27   90.3\n",
       "2  Charlie   22   88.0"
      ]
     },
     "execution_count": 4,
     "metadata": {},
     "output_type": "execute_result"
    }
   ],
   "source": [
    "df.head(3)"
   ]
  },
  {
   "cell_type": "markdown",
   "id": "79303912",
   "metadata": {},
   "source": [
    "Q.3 Column Selection"
   ]
  },
  {
   "cell_type": "code",
   "execution_count": 5,
   "id": "bd74dcac",
   "metadata": {},
   "outputs": [
    {
     "data": {
      "text/html": [
       "<div>\n",
       "<style scoped>\n",
       "    .dataframe tbody tr th:only-of-type {\n",
       "        vertical-align: middle;\n",
       "    }\n",
       "\n",
       "    .dataframe tbody tr th {\n",
       "        vertical-align: top;\n",
       "    }\n",
       "\n",
       "    .dataframe thead th {\n",
       "        text-align: right;\n",
       "    }\n",
       "</style>\n",
       "<table border=\"1\" class=\"dataframe\">\n",
       "  <thead>\n",
       "    <tr style=\"text-align: right;\">\n",
       "      <th></th>\n",
       "      <th>Name</th>\n",
       "      <th>Score</th>\n",
       "    </tr>\n",
       "  </thead>\n",
       "  <tbody>\n",
       "    <tr>\n",
       "      <th>0</th>\n",
       "      <td>Alice</td>\n",
       "      <td>85.5</td>\n",
       "    </tr>\n",
       "    <tr>\n",
       "      <th>1</th>\n",
       "      <td>Bob</td>\n",
       "      <td>90.3</td>\n",
       "    </tr>\n",
       "    <tr>\n",
       "      <th>2</th>\n",
       "      <td>Charlie</td>\n",
       "      <td>88.0</td>\n",
       "    </tr>\n",
       "    <tr>\n",
       "      <th>3</th>\n",
       "      <td>David</td>\n",
       "      <td>92.1</td>\n",
       "    </tr>\n",
       "    <tr>\n",
       "      <th>4</th>\n",
       "      <td>Eve</td>\n",
       "      <td>78.8</td>\n",
       "    </tr>\n",
       "  </tbody>\n",
       "</table>\n",
       "</div>"
      ],
      "text/plain": [
       "      Name  Score\n",
       "0    Alice   85.5\n",
       "1      Bob   90.3\n",
       "2  Charlie   88.0\n",
       "3    David   92.1\n",
       "4      Eve   78.8"
      ]
     },
     "execution_count": 5,
     "metadata": {},
     "output_type": "execute_result"
    }
   ],
   "source": [
    "df[['Name','Score']]"
   ]
  },
  {
   "cell_type": "markdown",
   "id": "5c78bce5",
   "metadata": {},
   "source": [
    "Q.4 Filtering Data"
   ]
  },
  {
   "cell_type": "code",
   "execution_count": 6,
   "id": "10a1eae1",
   "metadata": {},
   "outputs": [
    {
     "data": {
      "text/html": [
       "<div>\n",
       "<style scoped>\n",
       "    .dataframe tbody tr th:only-of-type {\n",
       "        vertical-align: middle;\n",
       "    }\n",
       "\n",
       "    .dataframe tbody tr th {\n",
       "        vertical-align: top;\n",
       "    }\n",
       "\n",
       "    .dataframe thead th {\n",
       "        text-align: right;\n",
       "    }\n",
       "</style>\n",
       "<table border=\"1\" class=\"dataframe\">\n",
       "  <thead>\n",
       "    <tr style=\"text-align: right;\">\n",
       "      <th></th>\n",
       "      <th>Name</th>\n",
       "      <th>Age</th>\n",
       "      <th>Score</th>\n",
       "    </tr>\n",
       "  </thead>\n",
       "  <tbody>\n",
       "    <tr>\n",
       "      <th>1</th>\n",
       "      <td>Bob</td>\n",
       "      <td>27</td>\n",
       "      <td>90.3</td>\n",
       "    </tr>\n",
       "    <tr>\n",
       "      <th>3</th>\n",
       "      <td>David</td>\n",
       "      <td>32</td>\n",
       "      <td>92.1</td>\n",
       "    </tr>\n",
       "    <tr>\n",
       "      <th>4</th>\n",
       "      <td>Eve</td>\n",
       "      <td>29</td>\n",
       "      <td>78.8</td>\n",
       "    </tr>\n",
       "  </tbody>\n",
       "</table>\n",
       "</div>"
      ],
      "text/plain": [
       "    Name  Age  Score\n",
       "1    Bob   27   90.3\n",
       "3  David   32   92.1\n",
       "4    Eve   29   78.8"
      ]
     },
     "execution_count": 6,
     "metadata": {},
     "output_type": "execute_result"
    }
   ],
   "source": [
    "age=df[df['Age']>25]\n",
    "age"
   ]
  },
  {
   "cell_type": "markdown",
   "id": "9d1c76b0",
   "metadata": {},
   "source": [
    "Q.5 Adding a Column"
   ]
  },
  {
   "cell_type": "code",
   "execution_count": 11,
   "id": "c5b13c10",
   "metadata": {},
   "outputs": [
    {
     "data": {
      "text/html": [
       "<div>\n",
       "<style scoped>\n",
       "    .dataframe tbody tr th:only-of-type {\n",
       "        vertical-align: middle;\n",
       "    }\n",
       "\n",
       "    .dataframe tbody tr th {\n",
       "        vertical-align: top;\n",
       "    }\n",
       "\n",
       "    .dataframe thead th {\n",
       "        text-align: right;\n",
       "    }\n",
       "</style>\n",
       "<table border=\"1\" class=\"dataframe\">\n",
       "  <thead>\n",
       "    <tr style=\"text-align: right;\">\n",
       "      <th></th>\n",
       "      <th>Name</th>\n",
       "      <th>Age</th>\n",
       "      <th>Score</th>\n",
       "      <th>Passed</th>\n",
       "    </tr>\n",
       "  </thead>\n",
       "  <tbody>\n",
       "    <tr>\n",
       "      <th>0</th>\n",
       "      <td>Alice</td>\n",
       "      <td>24</td>\n",
       "      <td>85.5</td>\n",
       "      <td>True</td>\n",
       "    </tr>\n",
       "    <tr>\n",
       "      <th>1</th>\n",
       "      <td>Bob</td>\n",
       "      <td>27</td>\n",
       "      <td>90.3</td>\n",
       "      <td>True</td>\n",
       "    </tr>\n",
       "    <tr>\n",
       "      <th>2</th>\n",
       "      <td>Charlie</td>\n",
       "      <td>22</td>\n",
       "      <td>88.0</td>\n",
       "      <td>True</td>\n",
       "    </tr>\n",
       "    <tr>\n",
       "      <th>3</th>\n",
       "      <td>David</td>\n",
       "      <td>32</td>\n",
       "      <td>92.1</td>\n",
       "      <td>True</td>\n",
       "    </tr>\n",
       "    <tr>\n",
       "      <th>4</th>\n",
       "      <td>Eve</td>\n",
       "      <td>29</td>\n",
       "      <td>78.8</td>\n",
       "      <td>False</td>\n",
       "    </tr>\n",
       "  </tbody>\n",
       "</table>\n",
       "</div>"
      ],
      "text/plain": [
       "      Name  Age  Score  Passed\n",
       "0    Alice   24   85.5    True\n",
       "1      Bob   27   90.3    True\n",
       "2  Charlie   22   88.0    True\n",
       "3    David   32   92.1    True\n",
       "4      Eve   29   78.8   False"
      ]
     },
     "execution_count": 11,
     "metadata": {},
     "output_type": "execute_result"
    }
   ],
   "source": [
    "def passed(score):\n",
    "    if score>80:\n",
    "        return True\n",
    "    else:\n",
    "        return False\n",
    "\n",
    "df['Passed']=df['Score'].apply(passed)\n",
    "df"
   ]
  },
  {
   "cell_type": "markdown",
   "id": "c61af811",
   "metadata": {},
   "source": [
    "Q.6 Sorting Data"
   ]
  },
  {
   "cell_type": "code",
   "execution_count": 14,
   "id": "a2c63e56",
   "metadata": {},
   "outputs": [
    {
     "data": {
      "text/html": [
       "<div>\n",
       "<style scoped>\n",
       "    .dataframe tbody tr th:only-of-type {\n",
       "        vertical-align: middle;\n",
       "    }\n",
       "\n",
       "    .dataframe tbody tr th {\n",
       "        vertical-align: top;\n",
       "    }\n",
       "\n",
       "    .dataframe thead th {\n",
       "        text-align: right;\n",
       "    }\n",
       "</style>\n",
       "<table border=\"1\" class=\"dataframe\">\n",
       "  <thead>\n",
       "    <tr style=\"text-align: right;\">\n",
       "      <th></th>\n",
       "      <th>Name</th>\n",
       "      <th>Age</th>\n",
       "      <th>Score</th>\n",
       "      <th>Passed</th>\n",
       "    </tr>\n",
       "  </thead>\n",
       "  <tbody>\n",
       "    <tr>\n",
       "      <th>3</th>\n",
       "      <td>David</td>\n",
       "      <td>32</td>\n",
       "      <td>92.1</td>\n",
       "      <td>True</td>\n",
       "    </tr>\n",
       "    <tr>\n",
       "      <th>1</th>\n",
       "      <td>Bob</td>\n",
       "      <td>27</td>\n",
       "      <td>90.3</td>\n",
       "      <td>True</td>\n",
       "    </tr>\n",
       "    <tr>\n",
       "      <th>2</th>\n",
       "      <td>Charlie</td>\n",
       "      <td>22</td>\n",
       "      <td>88.0</td>\n",
       "      <td>True</td>\n",
       "    </tr>\n",
       "    <tr>\n",
       "      <th>0</th>\n",
       "      <td>Alice</td>\n",
       "      <td>24</td>\n",
       "      <td>85.5</td>\n",
       "      <td>True</td>\n",
       "    </tr>\n",
       "    <tr>\n",
       "      <th>4</th>\n",
       "      <td>Eve</td>\n",
       "      <td>29</td>\n",
       "      <td>78.8</td>\n",
       "      <td>False</td>\n",
       "    </tr>\n",
       "  </tbody>\n",
       "</table>\n",
       "</div>"
      ],
      "text/plain": [
       "      Name  Age  Score  Passed\n",
       "3    David   32   92.1    True\n",
       "1      Bob   27   90.3    True\n",
       "2  Charlie   22   88.0    True\n",
       "0    Alice   24   85.5    True\n",
       "4      Eve   29   78.8   False"
      ]
     },
     "execution_count": 14,
     "metadata": {},
     "output_type": "execute_result"
    }
   ],
   "source": [
    "sort=df.sort_values('Score',ascending=False)\n",
    "sort"
   ]
  },
  {
   "cell_type": "markdown",
   "id": "c8d57fbb",
   "metadata": {},
   "source": [
    "Q.7 Group By"
   ]
  },
  {
   "cell_type": "code",
   "execution_count": 18,
   "id": "b77ef23a",
   "metadata": {},
   "outputs": [
    {
     "data": {
      "text/plain": [
       "Passed\n",
       "False    78.800\n",
       "True     88.975\n",
       "Name: Score, dtype: float64"
      ]
     },
     "execution_count": 18,
     "metadata": {},
     "output_type": "execute_result"
    }
   ],
   "source": [
    "group=df.groupby('Passed')\n",
    "group['Score'].mean()"
   ]
  },
  {
   "cell_type": "markdown",
   "id": "46e4d116",
   "metadata": {},
   "source": [
    "Q.8 Handling Missing Data"
   ]
  },
  {
   "cell_type": "code",
   "execution_count": 21,
   "id": "c80d47fa",
   "metadata": {},
   "outputs": [
    {
     "data": {
      "text/html": [
       "<div>\n",
       "<style scoped>\n",
       "    .dataframe tbody tr th:only-of-type {\n",
       "        vertical-align: middle;\n",
       "    }\n",
       "\n",
       "    .dataframe tbody tr th {\n",
       "        vertical-align: top;\n",
       "    }\n",
       "\n",
       "    .dataframe thead th {\n",
       "        text-align: right;\n",
       "    }\n",
       "</style>\n",
       "<table border=\"1\" class=\"dataframe\">\n",
       "  <thead>\n",
       "    <tr style=\"text-align: right;\">\n",
       "      <th></th>\n",
       "      <th>Name</th>\n",
       "      <th>Age</th>\n",
       "      <th>Score</th>\n",
       "      <th>Passed</th>\n",
       "      <th>Attendance</th>\n",
       "    </tr>\n",
       "  </thead>\n",
       "  <tbody>\n",
       "    <tr>\n",
       "      <th>0</th>\n",
       "      <td>Alice</td>\n",
       "      <td>24</td>\n",
       "      <td>85.5</td>\n",
       "      <td>True</td>\n",
       "      <td>90.000000</td>\n",
       "    </tr>\n",
       "    <tr>\n",
       "      <th>1</th>\n",
       "      <td>Bob</td>\n",
       "      <td>27</td>\n",
       "      <td>90.3</td>\n",
       "      <td>True</td>\n",
       "      <td>87.333333</td>\n",
       "    </tr>\n",
       "    <tr>\n",
       "      <th>2</th>\n",
       "      <td>Charlie</td>\n",
       "      <td>22</td>\n",
       "      <td>88.0</td>\n",
       "      <td>True</td>\n",
       "      <td>85.000000</td>\n",
       "    </tr>\n",
       "    <tr>\n",
       "      <th>3</th>\n",
       "      <td>David</td>\n",
       "      <td>32</td>\n",
       "      <td>92.1</td>\n",
       "      <td>True</td>\n",
       "      <td>87.000000</td>\n",
       "    </tr>\n",
       "    <tr>\n",
       "      <th>4</th>\n",
       "      <td>Eve</td>\n",
       "      <td>29</td>\n",
       "      <td>78.8</td>\n",
       "      <td>False</td>\n",
       "      <td>87.333333</td>\n",
       "    </tr>\n",
       "  </tbody>\n",
       "</table>\n",
       "</div>"
      ],
      "text/plain": [
       "      Name  Age  Score  Passed  Attendance\n",
       "0    Alice   24   85.5    True   90.000000\n",
       "1      Bob   27   90.3    True   87.333333\n",
       "2  Charlie   22   88.0    True   85.000000\n",
       "3    David   32   92.1    True   87.000000\n",
       "4      Eve   29   78.8   False   87.333333"
      ]
     },
     "execution_count": 21,
     "metadata": {},
     "output_type": "execute_result"
    }
   ],
   "source": [
    "df['Attendance']=[90,np.nan,85,87,np.nan]\n",
    "df['Attendance'].fillna(df['Attendance'].mean(), inplace=True)\n",
    "df"
   ]
  },
  {
   "cell_type": "markdown",
   "id": "a36b5001",
   "metadata": {},
   "source": [
    "# Numpy"
   ]
  },
  {
   "cell_type": "markdown",
   "id": "726275e0",
   "metadata": {},
   "source": [
    "Q.9 Array Creation"
   ]
  },
  {
   "cell_type": "code",
   "execution_count": 24,
   "id": "ccb71aa7",
   "metadata": {},
   "outputs": [
    {
     "data": {
      "text/plain": [
       "array([10, 11, 12, 13, 14, 15, 16, 17, 18, 19])"
      ]
     },
     "execution_count": 24,
     "metadata": {},
     "output_type": "execute_result"
    }
   ],
   "source": [
    "arr=np.arange(10,20)\n",
    "arr"
   ]
  },
  {
   "cell_type": "markdown",
   "id": "a402534f",
   "metadata": {},
   "source": [
    "Q.10 Array Reshape"
   ]
  },
  {
   "cell_type": "code",
   "execution_count": 27,
   "id": "68c92149",
   "metadata": {},
   "outputs": [
    {
     "data": {
      "text/plain": [
       "array([[10, 11, 12, 13, 14],\n",
       "       [15, 16, 17, 18, 19]])"
      ]
     },
     "execution_count": 27,
     "metadata": {},
     "output_type": "execute_result"
    }
   ],
   "source": [
    "arr=arr.reshape(2,5)\n",
    "arr"
   ]
  },
  {
   "cell_type": "markdown",
   "id": "79ffb46f",
   "metadata": {},
   "source": [
    "Q.11 Array Operations"
   ]
  },
  {
   "cell_type": "code",
   "execution_count": 28,
   "id": "7b2e01c3",
   "metadata": {},
   "outputs": [
    {
     "name": "stdout",
     "output_type": "stream",
     "text": [
      "addition [5 7 9]\n",
      "multiplication [ 4 10 18]\n"
     ]
    }
   ],
   "source": [
    "array1 = np.array([1, 2, 3])\n",
    "array2 = np.array([4, 5, 6])\n",
    "add_arr= array1 + array2\n",
    "multiplication_arr= array1 * array2\n",
    "print('addition',add_arr)\n",
    "print('multiplication',multiplication_arr)"
   ]
  },
  {
   "cell_type": "markdown",
   "id": "82e0e702",
   "metadata": {},
   "source": [
    "Q.12 Array Indexing"
   ]
  },
  {
   "cell_type": "code",
   "execution_count": 31,
   "id": "186a8497",
   "metadata": {},
   "outputs": [
    {
     "name": "stdout",
     "output_type": "stream",
     "text": [
      "second element: 20\n",
      "fourth element: 40\n"
     ]
    }
   ],
   "source": [
    "arr=np.array([10, 20, 30, 40, 50])\n",
    "print('second element:',arr[1])\n",
    "print('fourth element:',arr[3])"
   ]
  },
  {
   "cell_type": "markdown",
   "id": "0d6bcdfb",
   "metadata": {},
   "source": [
    "Q.13 Array Slicing"
   ]
  },
  {
   "cell_type": "code",
   "execution_count": 33,
   "id": "d46fa449",
   "metadata": {},
   "outputs": [
    {
     "data": {
      "text/plain": [
       "array([2, 3, 4])"
      ]
     },
     "execution_count": 33,
     "metadata": {},
     "output_type": "execute_result"
    }
   ],
   "source": [
    "arr= np.array([1,2,3,4,5,6])\n",
    "sliced_arr= arr[1:4]\n",
    "sliced_arr"
   ]
  },
  {
   "cell_type": "markdown",
   "id": "a28d9bfb",
   "metadata": {},
   "source": [
    "Q.14 Statistical Functions"
   ]
  },
  {
   "cell_type": "code",
   "execution_count": 36,
   "id": "116a5fbf",
   "metadata": {},
   "outputs": [
    {
     "name": "stdout",
     "output_type": "stream",
     "text": [
      "mean:- 30.0\n",
      "standard deviation:- 14.142135623730951\n"
     ]
    }
   ],
   "source": [
    "arr=np.array([10, 20, 30, 40, 50])\n",
    "print('mean:-',arr.mean())\n",
    "print('standard deviation:-',arr.std())"
   ]
  },
  {
   "cell_type": "markdown",
   "id": "318aef34",
   "metadata": {},
   "source": [
    "Q.15 Broadcasting"
   ]
  },
  {
   "cell_type": "code",
   "execution_count": 37,
   "id": "ccdd45ce",
   "metadata": {},
   "outputs": [
    {
     "name": "stdout",
     "output_type": "stream",
     "text": [
      "Result: [[ 25  30  65]\n",
      " [ 75  80 105]\n",
      " [105 110 135]]\n"
     ]
    }
   ],
   "source": [
    "a= np.array([[10,20,40],\n",
    "                   [60,70,80],\n",
    "                   [90,100,110]])\n",
    "b= np.array([15, 10, 25])\n",
    "\n",
    "c= a+b\n",
    "\n",
    "print('Result:',c)"
   ]
  },
  {
   "cell_type": "markdown",
   "id": "d4fd9aef",
   "metadata": {},
   "source": [
    "Q.16 Matrix Operations"
   ]
  },
  {
   "cell_type": "code",
   "execution_count": null,
   "id": "a20606ad",
   "metadata": {},
   "outputs": [],
   "source": []
  },
  {
   "cell_type": "markdown",
   "id": "491b7830",
   "metadata": {},
   "source": [
    "# Data Visualization"
   ]
  },
  {
   "cell_type": "markdown",
   "id": "31a4aea0",
   "metadata": {},
   "source": [
    "Q.17 Creating Box Plot"
   ]
  },
  {
   "cell_type": "code",
   "execution_count": 38,
   "id": "3267d359",
   "metadata": {},
   "outputs": [],
   "source": [
    "import seaborn as sns\n",
    "import matplotlib.pyplot as plt\n",
    "%matplotlib inline"
   ]
  },
  {
   "cell_type": "code",
   "execution_count": 41,
   "id": "5eceb9ee",
   "metadata": {},
   "outputs": [
    {
     "data": {
      "text/plain": [
       "<AxesSubplot:>"
      ]
     },
     "execution_count": 41,
     "metadata": {},
     "output_type": "execute_result"
    },
    {
     "data": {
      "image/png": "[encoded data removed]",
      "text/plain": [
       "<Figure size 432x288 with 1 Axes>"
      ]
     },
     "metadata": {
      "needs_background": "light"
     },
     "output_type": "display_data"
    }
   ],
   "source": [
    "data = [10,14,15,12,8,13,16,18,20,22,30,24,26,30,32,34,35]\n",
    "df=pd.DataFrame(data)\n",
    "sns.boxplot(data=df)"
   ]
  },
  {
   "cell_type": "markdown",
   "id": "5595f932",
   "metadata": {},
   "source": [
    "Q.18 Creating Histogram"
   ]
  },
  {
   "cell_type": "code",
   "execution_count": 42,
   "id": "5de1a8b0",
   "metadata": {},
   "outputs": [
    {
     "data": {
      "text/plain": [
       "<AxesSubplot:ylabel='Frequency'>"
      ]
     },
     "execution_count": 42,
     "metadata": {},
     "output_type": "execute_result"
    },
    {
     "data": {
      "image/png": "[encoded data removed]",
      "text/plain": [
       "<Figure size 432x288 with 1 Axes>"
      ]
     },
     "metadata": {
      "needs_background": "light"
     },
     "output_type": "display_data"
    }
   ],
   "source": [
    "df.plot(kind='hist')"
   ]
  },
  {
   "cell_type": "markdown",
   "id": "3c819cbc",
   "metadata": {},
   "source": [
    "Q.19 Creating Bar Plot"
   ]
  },
  {
   "cell_type": "code",
   "execution_count": 47,
   "id": "3b476eff",
   "metadata": {},
   "outputs": [
    {
     "data": {
      "text/plain": [
       "<AxesSubplot:xlabel='Name', ylabel='Score'>"
      ]
     },
     "execution_count": 47,
     "metadata": {},
     "output_type": "execute_result"
    },
    {
     "data": {
      "image/png": "[encoded data removed]",
      "text/plain": [
       "<Figure size 432x288 with 1 Axes>"
      ]
     },
     "metadata": {
      "needs_background": "light"
     },
     "output_type": "display_data"
    }
   ],
   "source": [
    "data = {\n",
    "'Name': ['Alice', 'Bob', 'Charlie', 'David', 'Eve'],\n",
    "'Age': [24, 27, 22, 32, 29],\n",
    "'Score': [85.5, 90.3, 88.0, 92.1, 78.8]\n",
    "}\n",
    "df1=pd.DataFrame(data)\n",
    "sns.barplot(x='Name',y='Score',data=df1)"
   ]
  },
  {
   "cell_type": "markdown",
   "id": "82772fe8",
   "metadata": {},
   "source": [
    "Q.20 Creating Pie Plot"
   ]
  },
  {
   "cell_type": "code",
   "execution_count": 48,
   "id": "66e582fa",
   "metadata": {},
   "outputs": [
    {
     "data": {
      "image/png": "[encoded data removed]",
      "text/plain": [
       "<Figure size 432x288 with 1 Axes>"
      ]
     },
     "metadata": {},
     "output_type": "display_data"
    }
   ],
   "source": [
    "data={'Apples':10,'Bananas':15,'Cherries':7,'Dates':3}\n",
    "plt.pie(data.values(),labels=data.keys(),explode=(0,0,0,0.1))\n",
    "plt.show()"
   ]
  },
  {
   "cell_type": "code",
   "execution_count": null,
   "id": "c16a6417",
   "metadata": {},
   "outputs": [],
   "source": []
  }
 ],
 "metadata": {
  "kernelspec": {
   "display_name": "Python 3 (ipykernel)",
   "language": "python",
   "name": "python3"
  },
  "language_info": {
   "codemirror_mode": {
    "name": "ipython",
    "version": 3
   },
   "file_extension": ".py",
   "mimetype": "text/x-python",
   "name": "python",
   "nbconvert_exporter": "python",
   "pygments_lexer": "ipython3",
   "version": "3.9.7"
  }
 },
 "nbformat": 4,
 "nbformat_minor": 5
}
